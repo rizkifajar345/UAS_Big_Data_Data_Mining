{
  "nbformat": 4,
  "nbformat_minor": 0,
  "metadata": {
    "colab": {
      "provenance": []
    },
    "kernelspec": {
      "name": "python3",
      "display_name": "Python 3"
    },
    "language_info": {
      "name": "python"
    }
  },
  "cells": [
    {
      "cell_type": "markdown",
      "source": [
        "# **Config**"
      ],
      "metadata": {
        "id": "7jY3_djYnlTY"
      }
    },
    {
      "cell_type": "code",
      "source": [
        "!pip install xgboost\n",
        "!pip install scikit-learn"
      ],
      "metadata": {
        "colab": {
          "base_uri": "https://localhost:8080/"
        },
        "id": "EBwZ-C3LmTQn",
        "outputId": "46b61584-52b6-4632-8065-eb13ce1a55f7"
      },
      "execution_count": 1,
      "outputs": [
        {
          "output_type": "stream",
          "name": "stdout",
          "text": [
            "Requirement already satisfied: xgboost in /usr/local/lib/python3.11/dist-packages (2.1.3)\n",
            "Requirement already satisfied: numpy in /usr/local/lib/python3.11/dist-packages (from xgboost) (1.26.4)\n",
            "Requirement already satisfied: nvidia-nccl-cu12 in /usr/local/lib/python3.11/dist-packages (from xgboost) (2.21.5)\n",
            "Requirement already satisfied: scipy in /usr/local/lib/python3.11/dist-packages (from xgboost) (1.13.1)\n",
            "Requirement already satisfied: scikit-learn in /usr/local/lib/python3.11/dist-packages (1.6.0)\n",
            "Requirement already satisfied: numpy>=1.19.5 in /usr/local/lib/python3.11/dist-packages (from scikit-learn) (1.26.4)\n",
            "Requirement already satisfied: scipy>=1.6.0 in /usr/local/lib/python3.11/dist-packages (from scikit-learn) (1.13.1)\n",
            "Requirement already satisfied: joblib>=1.2.0 in /usr/local/lib/python3.11/dist-packages (from scikit-learn) (1.4.2)\n",
            "Requirement already satisfied: threadpoolctl>=3.1.0 in /usr/local/lib/python3.11/dist-packages (from scikit-learn) (3.5.0)\n"
          ]
        }
      ]
    },
    {
      "cell_type": "markdown",
      "source": [
        "# **EXPLORASI DATA**"
      ],
      "metadata": {
        "id": "0E2MFPpqmD5Y"
      }
    },
    {
      "cell_type": "code",
      "execution_count": 2,
      "metadata": {
        "colab": {
          "base_uri": "https://localhost:8080/"
        },
        "id": "mBrx-oZS4ZuK",
        "outputId": "a1db2ab9-63a2-47da-8703-a523b8986d78"
      },
      "outputs": [
        {
          "output_type": "stream",
          "name": "stdout",
          "text": [
            "Dimensi Dataset: (400, 26)\n",
            "\n",
            "Informasi Dataset:\n",
            "\n",
            "<class 'pandas.core.frame.DataFrame'>\n",
            "RangeIndex: 400 entries, 0 to 399\n",
            "Data columns (total 26 columns):\n",
            " #   Column          Non-Null Count  Dtype  \n",
            "---  ------          --------------  -----  \n",
            " 0   id              400 non-null    int64  \n",
            " 1   age             391 non-null    float64\n",
            " 2   bp              388 non-null    float64\n",
            " 3   sg              353 non-null    float64\n",
            " 4   al              354 non-null    float64\n",
            " 5   su              351 non-null    float64\n",
            " 6   rbc             248 non-null    object \n",
            " 7   pc              335 non-null    object \n",
            " 8   pcc             396 non-null    object \n",
            " 9   ba              396 non-null    object \n",
            " 10  bgr             356 non-null    float64\n",
            " 11  bu              381 non-null    float64\n",
            " 12  sc              383 non-null    float64\n",
            " 13  sod             313 non-null    float64\n",
            " 14  pot             312 non-null    float64\n",
            " 15  hemo            348 non-null    float64\n",
            " 16  pcv             330 non-null    object \n",
            " 17  wc              295 non-null    object \n",
            " 18  rc              270 non-null    object \n",
            " 19  htn             398 non-null    object \n",
            " 20  dm              398 non-null    object \n",
            " 21  cad             398 non-null    object \n",
            " 22  appet           399 non-null    object \n",
            " 23  pe              399 non-null    object \n",
            " 24  ane             399 non-null    object \n",
            " 25  classification  400 non-null    object \n",
            "dtypes: float64(11), int64(1), object(14)\n",
            "memory usage: 81.4+ KB\n",
            "None\n",
            "\n",
            "Lima Baris Pertama Dataset:\n",
            "\n",
            "   id   age    bp     sg   al   su     rbc        pc         pcc          ba  \\\n",
            "0   0  48.0  80.0  1.020  1.0  0.0     NaN    normal  notpresent  notpresent   \n",
            "1   1   7.0  50.0  1.020  4.0  0.0     NaN    normal  notpresent  notpresent   \n",
            "2   2  62.0  80.0  1.010  2.0  3.0  normal    normal  notpresent  notpresent   \n",
            "3   3  48.0  70.0  1.005  4.0  0.0  normal  abnormal     present  notpresent   \n",
            "4   4  51.0  80.0  1.010  2.0  0.0  normal    normal  notpresent  notpresent   \n",
            "\n",
            "   ...  pcv    wc   rc  htn   dm  cad appet   pe  ane classification  \n",
            "0  ...   44  7800  5.2  yes  yes   no  good   no   no            ckd  \n",
            "1  ...   38  6000  NaN   no   no   no  good   no   no            ckd  \n",
            "2  ...   31  7500  NaN   no  yes   no  poor   no  yes            ckd  \n",
            "3  ...   32  6700  3.9  yes   no   no  poor  yes  yes            ckd  \n",
            "4  ...   35  7300  4.6   no   no   no  good   no   no            ckd  \n",
            "\n",
            "[5 rows x 26 columns]\n"
          ]
        }
      ],
      "source": [
        "# Import libraries\n",
        "import pandas as pd\n",
        "import numpy as np\n",
        "from sklearn.ensemble import RandomForestClassifier\n",
        "from sklearn.model_selection import cross_val_score\n",
        "from sklearn.metrics import accuracy_score, classification_report, confusion_matrix\n",
        "from sklearn.model_selection import train_test_split\n",
        "from sklearn.preprocessing import LabelEncoder\n",
        "from sklearn.preprocessing import MinMaxScaler\n",
        "\n",
        "# Load dataset\n",
        "file_path = 'kidney_disease.csv'\n",
        "dataset = pd.read_csv(file_path)\n",
        "\n",
        "# Eksplorasi dasar\n",
        "print(\"Dimensi Dataset:\", dataset.shape)\n",
        "print(\"\\nInformasi Dataset:\\n\")\n",
        "print(dataset.info())\n",
        "print(\"\\nLima Baris Pertama Dataset:\\n\")\n",
        "print(dataset.head())"
      ]
    },
    {
      "cell_type": "markdown",
      "source": [
        "# **MENAMPILKAN MISSING VALUE**\n",
        "\n"
      ],
      "metadata": {
        "id": "TKtzk8p9mfx-"
      }
    },
    {
      "cell_type": "code",
      "source": [
        "# Menampilkan missing value\n",
        "print(\"\\nJumlah Missing Value per Kolom:\\n\")\n",
        "print(dataset.isnull().sum())"
      ],
      "metadata": {
        "colab": {
          "base_uri": "https://localhost:8080/"
        },
        "id": "lLmZmlwx4t15",
        "outputId": "217d07fc-a7a8-4900-b935-2595bc2b4d9e"
      },
      "execution_count": 3,
      "outputs": [
        {
          "output_type": "stream",
          "name": "stdout",
          "text": [
            "\n",
            "Jumlah Missing Value per Kolom:\n",
            "\n",
            "id                  0\n",
            "age                 9\n",
            "bp                 12\n",
            "sg                 47\n",
            "al                 46\n",
            "su                 49\n",
            "rbc               152\n",
            "pc                 65\n",
            "pcc                 4\n",
            "ba                  4\n",
            "bgr                44\n",
            "bu                 19\n",
            "sc                 17\n",
            "sod                87\n",
            "pot                88\n",
            "hemo               52\n",
            "pcv                70\n",
            "wc                105\n",
            "rc                130\n",
            "htn                 2\n",
            "dm                  2\n",
            "cad                 2\n",
            "appet               1\n",
            "pe                  1\n",
            "ane                 1\n",
            "classification      0\n",
            "dtype: int64\n"
          ]
        }
      ]
    },
    {
      "cell_type": "markdown",
      "source": [
        "# **PRE PROCESSING**"
      ],
      "metadata": {
        "id": "Fcc5N-49mwtd"
      }
    },
    {
      "cell_type": "code",
      "source": [
        "# Display unique values before replacement\n",
        "print(\"Unique values before replacement:\", dataset['classification'].unique())"
      ],
      "metadata": {
        "colab": {
          "base_uri": "https://localhost:8080/"
        },
        "id": "VyCtpMaHLdjX",
        "outputId": "79f41701-824a-45f8-e52c-a7c50087f94f"
      },
      "execution_count": 4,
      "outputs": [
        {
          "output_type": "stream",
          "name": "stdout",
          "text": [
            "Unique values before replacement: ['ckd' 'ckd\\t' 'notckd']\n"
          ]
        }
      ]
    },
    {
      "cell_type": "code",
      "source": [
        "# Replace 'ckd\\t' with 'ckd'\n",
        "dataset['classification'] = dataset['classification'].replace('ckd\\t', 'ckd')\n",
        "\n",
        "# Check if there are still anomalies\n",
        "print(\"Unique values after replacement:\", dataset['classification'].unique())"
      ],
      "metadata": {
        "colab": {
          "base_uri": "https://localhost:8080/"
        },
        "id": "w-v49MlSM_Pd",
        "outputId": "34be4cab-7e94-49f5-c5b0-e85d806bc5e5"
      },
      "execution_count": 5,
      "outputs": [
        {
          "output_type": "stream",
          "name": "stdout",
          "text": [
            "Unique values after replacement: ['ckd' 'notckd']\n"
          ]
        }
      ]
    },
    {
      "cell_type": "code",
      "source": [
        "# Mengatasi missing value (contoh: dengan modus untuk kategorikal dan median untuk numerikal)\n",
        "for column in dataset.columns:\n",
        "    if dataset[column].dtype == 'object':\n",
        "        dataset[column] = dataset[column].fillna(dataset[column].mode()[0])\n",
        "    else:\n",
        "        dataset[column] = dataset[column].fillna(dataset[column].median())\n",
        "\n",
        "# Konversi tipe data\n",
        "# Kolom-kolom kategorikal yang perlu diubah ke numeri\n",
        "categorical_cols = ['rbc', 'pc', 'pcc', 'ba', 'htn', 'dm', 'cad', 'appet', 'pe', 'ane', 'classification']\n",
        "\n",
        "# Label Encoding\n",
        "label_encoders = {}\n",
        "for col in categorical_cols:\n",
        "    le = LabelEncoder()\n",
        "    dataset[col] = le.fit_transform(dataset[col])\n",
        "    label_encoders[col] = le\n",
        "\n",
        "for col in dataset.columns:\n",
        "    try:\n",
        "        dataset[col] = dataset[col].astype(float)\n",
        "    except ValueError:\n",
        "\n",
        "        dataset[col] = pd.to_numeric(dataset[col], errors='coerce')\n",
        "\n",
        "        dataset[col] = dataset[col].fillna(dataset[col].median())\n",
        "\n",
        "        dataset[col] = dataset[col].astype(float)\n",
        "\n",
        "# Menghapus kolom \"id\" karena tidak diperlukan\n",
        "dataset = dataset.drop('id', axis=1)\n",
        "\n",
        "print(\"\\nDataset setelah penanganan missing value dan label encoding:\\n\")\n",
        "print(dataset.head())\n",
        "print(dataset.info())"
      ],
      "metadata": {
        "colab": {
          "base_uri": "https://localhost:8080/"
        },
        "id": "BCFveU_slVv0",
        "outputId": "ac27035b-2d06-4835-8e88-f0fbdbcd441e"
      },
      "execution_count": 6,
      "outputs": [
        {
          "output_type": "stream",
          "name": "stdout",
          "text": [
            "\n",
            "Dataset setelah penanganan missing value dan label encoding:\n",
            "\n",
            "    age    bp     sg   al   su  rbc   pc  pcc   ba    bgr  ...   pcv      wc  \\\n",
            "0  48.0  80.0  1.020  1.0  0.0  1.0  1.0  0.0  0.0  121.0  ...  44.0  7800.0   \n",
            "1   7.0  50.0  1.020  4.0  0.0  1.0  1.0  0.0  0.0  121.0  ...  38.0  6000.0   \n",
            "2  62.0  80.0  1.010  2.0  3.0  1.0  1.0  0.0  0.0  423.0  ...  31.0  7500.0   \n",
            "3  48.0  70.0  1.005  4.0  0.0  1.0  0.0  1.0  0.0  117.0  ...  32.0  6700.0   \n",
            "4  51.0  80.0  1.010  2.0  0.0  1.0  1.0  0.0  0.0  106.0  ...  35.0  7300.0   \n",
            "\n",
            "    rc  htn   dm  cad  appet   pe  ane  classification  \n",
            "0  5.2  1.0  4.0  1.0    0.0  0.0  0.0             0.0  \n",
            "1  5.2  0.0  3.0  1.0    0.0  0.0  0.0             0.0  \n",
            "2  5.2  0.0  4.0  1.0    1.0  0.0  1.0             0.0  \n",
            "3  3.9  1.0  3.0  1.0    1.0  1.0  1.0             0.0  \n",
            "4  4.6  0.0  3.0  1.0    0.0  0.0  0.0             0.0  \n",
            "\n",
            "[5 rows x 25 columns]\n",
            "<class 'pandas.core.frame.DataFrame'>\n",
            "RangeIndex: 400 entries, 0 to 399\n",
            "Data columns (total 25 columns):\n",
            " #   Column          Non-Null Count  Dtype  \n",
            "---  ------          --------------  -----  \n",
            " 0   age             400 non-null    float64\n",
            " 1   bp              400 non-null    float64\n",
            " 2   sg              400 non-null    float64\n",
            " 3   al              400 non-null    float64\n",
            " 4   su              400 non-null    float64\n",
            " 5   rbc             400 non-null    float64\n",
            " 6   pc              400 non-null    float64\n",
            " 7   pcc             400 non-null    float64\n",
            " 8   ba              400 non-null    float64\n",
            " 9   bgr             400 non-null    float64\n",
            " 10  bu              400 non-null    float64\n",
            " 11  sc              400 non-null    float64\n",
            " 12  sod             400 non-null    float64\n",
            " 13  pot             400 non-null    float64\n",
            " 14  hemo            400 non-null    float64\n",
            " 15  pcv             400 non-null    float64\n",
            " 16  wc              400 non-null    float64\n",
            " 17  rc              400 non-null    float64\n",
            " 18  htn             400 non-null    float64\n",
            " 19  dm              400 non-null    float64\n",
            " 20  cad             400 non-null    float64\n",
            " 21  appet           400 non-null    float64\n",
            " 22  pe              400 non-null    float64\n",
            " 23  ane             400 non-null    float64\n",
            " 24  classification  400 non-null    float64\n",
            "dtypes: float64(25)\n",
            "memory usage: 78.3 KB\n",
            "None\n"
          ]
        }
      ]
    },
    {
      "cell_type": "code",
      "source": [
        "# Menampilkan missing value\n",
        "print(\"\\nJumlah Missing Value per Kolom:\\n\")\n",
        "print(dataset.isnull().sum())"
      ],
      "metadata": {
        "colab": {
          "base_uri": "https://localhost:8080/"
        },
        "id": "MgO59tv0ooOC",
        "outputId": "07ea0acf-b4ed-41a0-f926-76028d2412a6"
      },
      "execution_count": 7,
      "outputs": [
        {
          "output_type": "stream",
          "name": "stdout",
          "text": [
            "\n",
            "Jumlah Missing Value per Kolom:\n",
            "\n",
            "age               0\n",
            "bp                0\n",
            "sg                0\n",
            "al                0\n",
            "su                0\n",
            "rbc               0\n",
            "pc                0\n",
            "pcc               0\n",
            "ba                0\n",
            "bgr               0\n",
            "bu                0\n",
            "sc                0\n",
            "sod               0\n",
            "pot               0\n",
            "hemo              0\n",
            "pcv               0\n",
            "wc                0\n",
            "rc                0\n",
            "htn               0\n",
            "dm                0\n",
            "cad               0\n",
            "appet             0\n",
            "pe                0\n",
            "ane               0\n",
            "classification    0\n",
            "dtype: int64\n"
          ]
        }
      ]
    },
    {
      "cell_type": "markdown",
      "source": [
        "# **MENYIMPAN DATASET SETELAH PRE PROCESSING**"
      ],
      "metadata": {
        "id": "1B5QsQ7KAh_b"
      }
    },
    {
      "cell_type": "code",
      "source": [
        "\n",
        "# Save the preprocessed dataset to a CSV file\n",
        "dataset.to_csv('preprocessed_kidney_disease.csv', index=False)\n",
        "\n",
        "# Download the preprocessed dataset\n",
        "files.download('preprocessed_kidney_disease.csv')"
      ],
      "metadata": {
        "colab": {
          "base_uri": "https://localhost:8080/",
          "height": 17
        },
        "id": "MNqdHuMZvjXE",
        "outputId": "13664a10-c168-4705-87a4-b0dcc4c0d804"
      },
      "execution_count": 9,
      "outputs": [
        {
          "output_type": "display_data",
          "data": {
            "text/plain": [
              "<IPython.core.display.Javascript object>"
            ],
            "application/javascript": [
              "\n",
              "    async function download(id, filename, size) {\n",
              "      if (!google.colab.kernel.accessAllowed) {\n",
              "        return;\n",
              "      }\n",
              "      const div = document.createElement('div');\n",
              "      const label = document.createElement('label');\n",
              "      label.textContent = `Downloading \"${filename}\": `;\n",
              "      div.appendChild(label);\n",
              "      const progress = document.createElement('progress');\n",
              "      progress.max = size;\n",
              "      div.appendChild(progress);\n",
              "      document.body.appendChild(div);\n",
              "\n",
              "      const buffers = [];\n",
              "      let downloaded = 0;\n",
              "\n",
              "      const channel = await google.colab.kernel.comms.open(id);\n",
              "      // Send a message to notify the kernel that we're ready.\n",
              "      channel.send({})\n",
              "\n",
              "      for await (const message of channel.messages) {\n",
              "        // Send a message to notify the kernel that we're ready.\n",
              "        channel.send({})\n",
              "        if (message.buffers) {\n",
              "          for (const buffer of message.buffers) {\n",
              "            buffers.push(buffer);\n",
              "            downloaded += buffer.byteLength;\n",
              "            progress.value = downloaded;\n",
              "          }\n",
              "        }\n",
              "      }\n",
              "      const blob = new Blob(buffers, {type: 'application/binary'});\n",
              "      const a = document.createElement('a');\n",
              "      a.href = window.URL.createObjectURL(blob);\n",
              "      a.download = filename;\n",
              "      div.appendChild(a);\n",
              "      a.click();\n",
              "      div.remove();\n",
              "    }\n",
              "  "
            ]
          },
          "metadata": {}
        },
        {
          "output_type": "display_data",
          "data": {
            "text/plain": [
              "<IPython.core.display.Javascript object>"
            ],
            "application/javascript": [
              "download(\"download_a2bbd908-4b4e-4e02-8b6d-31e4a8173ae4\", \"preprocessed_kidney_disease.csv\", 46193)"
            ]
          },
          "metadata": {}
        }
      ]
    },
    {
      "cell_type": "markdown",
      "source": [
        "# **SPLITING DAN TRAINING MODEL**"
      ],
      "metadata": {
        "id": "SttE3catAnsl"
      }
    },
    {
      "cell_type": "code",
      "source": [
        "# Drop the target column to create X and y\n",
        "X = dataset.drop(columns=['classification'])\n",
        "y = dataset['classification']\n",
        "\n",
        "# Split the data into training and testing sets (80% train, 20% test)\n",
        "X_train, X_test, y_train, y_test = train_test_split(X, y, test_size=0.2, random_state=42, stratify=y)\n",
        "\n",
        "# Display the shapes of the resulting datasets\n",
        "print(\"Ukuran Data Training (X_train, y_train):\", X_train.shape, y_train.shape)\n",
        "print(\"Ukuran Data Testing (X_test, y_test):\", X_test.shape, y_test.shape)"
      ],
      "metadata": {
        "colab": {
          "base_uri": "https://localhost:8080/"
        },
        "id": "cjJmLIhKwQWY",
        "outputId": "9e67a706-a5c4-4f0e-e736-e8d30c9abd41"
      },
      "execution_count": 8,
      "outputs": [
        {
          "output_type": "stream",
          "name": "stdout",
          "text": [
            "Ukuran Data Training (X_train, y_train): (320, 24) (320,)\n",
            "Ukuran Data Testing (X_test, y_test): (80, 24) (80,)\n"
          ]
        }
      ]
    },
    {
      "cell_type": "code",
      "source": [
        "# Inisialisasi model Random Forest\n",
        "model = RandomForestClassifier(n_estimators=100, random_state=42)\n",
        "\n",
        "# Evaluasi menggunakan Cross-Validation\n",
        "cv_scores = cross_val_score(model, X, y, cv=5, scoring='accuracy')\n",
        "print(\"Cross-Validation Scores:\", cv_scores)\n",
        "print(\"Mean Accuracy (Cross-Validation):\", cv_scores.mean())\n",
        "\n",
        "# Latih model\n",
        "model.fit(X_train, y_train)\n",
        "\n",
        "# Prediksi pada data testing\n",
        "y_pred = model.predict(X_test)\n",
        "\n",
        "# Evaluasi model\n",
        "print(\"\\nAkurasi Model:\", accuracy_score(y_test, y_pred))\n",
        "print(\"\\nConfusion Matrix:\\n\", confusion_matrix(y_test, y_pred))\n",
        "print(\"\\nClassification Report:\\n\", classification_report(y_test, y_pred, target_names=['Not CKD', 'CKD']))"
      ],
      "metadata": {
        "colab": {
          "base_uri": "https://localhost:8080/"
        },
        "id": "9UZAc1nLwXIC",
        "outputId": "ca4ae538-3510-44da-9ee1-fbcb04ee0606"
      },
      "execution_count": 10,
      "outputs": [
        {
          "output_type": "stream",
          "name": "stdout",
          "text": [
            "Cross-Validation Scores: [0.9875 1.     0.9875 0.9875 1.    ]\n",
            "Mean Accuracy (Cross-Validation): 0.9925\n",
            "\n",
            "Akurasi Model: 0.975\n",
            "\n",
            "Confusion Matrix:\n",
            " [[50  0]\n",
            " [ 2 28]]\n",
            "\n",
            "Classification Report:\n",
            "               precision    recall  f1-score   support\n",
            "\n",
            "     Not CKD       0.96      1.00      0.98        50\n",
            "         CKD       1.00      0.93      0.97        30\n",
            "\n",
            "    accuracy                           0.97        80\n",
            "   macro avg       0.98      0.97      0.97        80\n",
            "weighted avg       0.98      0.97      0.97        80\n",
            "\n"
          ]
        }
      ]
    },
    {
      "cell_type": "code",
      "source": [
        "# Evaluasi dengan metrik akurasi\n",
        "accuracy = accuracy_score(y_test, y_pred)\n",
        "print(\"\\nAkurasi Model:\", accuracy)\n",
        "\n",
        "# Evaluasi dengan confusion matrix\n",
        "conf_matrix = confusion_matrix(y_test, y_pred)\n",
        "print(\"\\nConfusion Matrix:\\n\", conf_matrix)\n",
        "\n",
        "# Evaluasi dengan precision, recall, dan F1-score\n",
        "class_report = classification_report(y_test, y_pred, target_names=['Tidak GERD', 'GERD'])\n",
        "print(\"\\nClassification Report:\\n\", class_report)"
      ],
      "metadata": {
        "colab": {
          "base_uri": "https://localhost:8080/"
        },
        "id": "r2pebgcqIYpK",
        "outputId": "02edf19d-8423-4cb1-a7f0-d869cd2253b2"
      },
      "execution_count": 11,
      "outputs": [
        {
          "output_type": "stream",
          "name": "stdout",
          "text": [
            "\n",
            "Akurasi Model: 0.975\n",
            "\n",
            "Confusion Matrix:\n",
            " [[50  0]\n",
            " [ 2 28]]\n",
            "\n",
            "Classification Report:\n",
            "               precision    recall  f1-score   support\n",
            "\n",
            "  Tidak GERD       0.96      1.00      0.98        50\n",
            "        GERD       1.00      0.93      0.97        30\n",
            "\n",
            "    accuracy                           0.97        80\n",
            "   macro avg       0.98      0.97      0.97        80\n",
            "weighted avg       0.98      0.97      0.97        80\n",
            "\n"
          ]
        }
      ]
    },
    {
      "cell_type": "code",
      "source": [
        "from sklearn.metrics import confusion_matrix\n",
        "import matplotlib.pyplot as plt\n",
        "import seaborn as sns\n",
        "\n",
        "# Hitung confusion matrix\n",
        "conf_matrix = confusion_matrix(y_test, y_pred)\n",
        "\n",
        "# Plot confusion matrix\n",
        "plt.figure(figsize=(8, 6))\n",
        "sns.heatmap(conf_matrix, annot=True, fmt='d', cmap='Blues', xticklabels=['Tidak GERD', 'GERD'], yticklabels=['Tidak GERD', 'GERD'])\n",
        "plt.title('Confusion Matrix')\n",
        "plt.xlabel('Predicted Label')\n",
        "plt.ylabel('True Label')\n",
        "plt.show()\n"
      ],
      "metadata": {
        "colab": {
          "base_uri": "https://localhost:8080/",
          "height": 564
        },
        "id": "DQyLgLwoQlgZ",
        "outputId": "c7f022f0-5abb-4c3e-9683-8507c2d35148"
      },
      "execution_count": 14,
      "outputs": [
        {
          "output_type": "display_data",
          "data": {
            "text/plain": [
              "<Figure size 800x600 with 2 Axes>"
            ],
            "image/png": "[encoded data removed]"
          },
          "metadata": {}
        }
      ]
    }
  ]
}